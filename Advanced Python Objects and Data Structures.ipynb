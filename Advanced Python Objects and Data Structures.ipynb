{
 "cells": [
  {
   "cell_type": "markdown",
   "metadata": {},
   "source": [
    "# Advanced Numbers"
   ]
  },
  {
   "cell_type": "code",
   "execution_count": 4,
   "metadata": {},
   "outputs": [
    {
     "data": {
      "text/plain": [
       "3"
      ]
     },
     "execution_count": 4,
     "metadata": {},
     "output_type": "execute_result"
    }
   ],
   "source": [
    "hex(256) # transforms the number 256 in hexadecimal, returns a string with prefix 0x\n",
    "bin(256) # similar with binary,  returns a string with prefix 0b\n",
    "\n",
    "pow(2,3) # equivalent to 2^3\n",
    "pow (2,3,4) # equivalent to (2^3) % 4 it exist for some efficiency cases\n",
    "abs(-2) # absolut value\n",
    "round(3.1) # Rounds to the given precission, by default 0. Second argument (optional) is the precission"
   ]
  },
  {
   "cell_type": "markdown",
   "metadata": {},
   "source": [
    "# Advanced Strings"
   ]
  },
  {
   "cell_type": "code",
   "execution_count": 18,
   "metadata": {},
   "outputs": [
    {
     "data": {
      "text/plain": [
       "('h', 'e', 'llo word')"
      ]
     },
     "execution_count": 18,
     "metadata": {},
     "output_type": "execute_result"
    }
   ],
   "source": [
    "s = 'hello word'\n",
    "s.capitalize() # Capitalizes the first letter of the string\n",
    "s.count('o') # Counts the number of letter 'o' in the string\n",
    "s.find('o') # Returns the position of the first 'o'\n",
    "\n",
    "# Centers your string and puts the passed string at the sides to the passed length -> 'AAhello wordAA'\n",
    "s.center(14,'A') \n",
    "\n",
    "# The string doesn't display the tab until printed, unless you call this method\n",
    "'hello\\tyou'.expandtabs() \n",
    "\n",
    "s.isalnum() # indicates if the string is a number\n",
    "s.isalpha() # indicates if the string is letters\n",
    "s.islower() # returns true if all are lower case\n",
    "s.isspace() # True if all characters are spaces\n",
    "s.title() # Uppercases all words\n",
    "s.istitle() # True if all words are capitalized\n",
    "s.endswith('d') # True if it ends with 'd'\n",
    "s.split('e') # splits in all occurences of 'e'\n",
    "\n",
    "# returns the prefix, separator and postfix to the separator passed (it only separates the first instance of it)\n",
    "s.partition('e') "
   ]
  },
  {
   "cell_type": "markdown",
   "metadata": {},
   "source": [
    "# Advanced Sets"
   ]
  },
  {
   "cell_type": "code",
   "execution_count": 26,
   "metadata": {},
   "outputs": [],
   "source": [
    "set1 = set()\n",
    "set1.add(1)\n",
    "set1.add(2)\n",
    "\n",
    "set2 = set()\n",
    "set2.add(1)\n",
    "set2.add(2)\n",
    "set2.add(3)\n",
    "\n",
    "set2.difference(set1) # returns the difference between the two sets, set1.difference(set2) would return an empty set\n",
    "set1.difference_update(set2) # returns set1 after removing all the elements that are same from set 2\n",
    "set1.discard(1) # if it is in the set removes it,  otherwise doesn't do anything\n",
    "set1.intersection(set2) # returns the elements that are common to both sets\n",
    "set1.intersection_update(set2) # updates set1 to be the intersection of set1 and set2\n",
    "set1.isdisjoint(set2) # returns true if there is no common elements between set1 and set2\n",
    "set1.issubset(set2) # returns true if set1 is contained in set2\n",
    "set1.issuperset(set2) # returns true if setq contains all elements of set2 (inverse of issubset)\n",
    "set1.symmetric_difference(set2) # returns the elements that are not common in both sets\n",
    "set1.symmetric_difference_update(set2) # updates set1 with the elements that are not common in both sets\n",
    "set1.union(set2) # returns the union of set1 and set2\n",
    "set1.update(set2) # updates set1 with the operation set1.union(set2)"
   ]
  },
  {
   "cell_type": "markdown",
   "metadata": {},
   "source": [
    "# Advanced Dictionaries"
   ]
  },
  {
   "cell_type": "code",
   "execution_count": 40,
   "metadata": {},
   "outputs": [
    {
     "name": "stdout",
     "output_type": "stream",
     "text": [
      "key1\n",
      "key2\n"
     ]
    }
   ],
   "source": [
    "# Dictionary comprehension\n",
    "dic1 = {'key1':1, 'key2':2}\n",
    "\n",
    "{x:x**2 for x in range(10)}\n",
    "\n",
    "# if keys are not value dependant, you can use zip\n",
    "newDic = {k:v**2 for k,v in zip(['a','b','c'],range(3))}\n",
    "\n",
    "# Iterations over keys and values\n",
    "for k,v in dic1.items():\n",
    "    print(k)"
   ]
  },
  {
   "cell_type": "markdown",
   "metadata": {},
   "source": [
    "# Advanced Lists"
   ]
  },
  {
   "cell_type": "code",
   "execution_count": 58,
   "metadata": {},
   "outputs": [
    {
     "name": "stdout",
     "output_type": "stream",
     "text": [
      "1\n",
      "[1, 2, 3, [4, 5]]\n",
      "[1, 2, 3, [4, 5], 6, 7]\n",
      "[-1, 1, 2, 3, [4, 5], 6, 7]\n",
      "7\n",
      "[-1, 1, 2, 3, 6]\n",
      "[6, 3, 2, 1, -1]\n",
      "[-1, 1, 2, 3, 6]\n"
     ]
    }
   ],
   "source": [
    "l = [1,2,3]\n",
    "\n",
    "print(l.count(1)) # Counts the number of occurrences for the argument passed\n",
    "\n",
    "l.append([4,5]) # adds the passed argument to the list as one\n",
    "print(l)\n",
    "\n",
    "\n",
    "l.extend([6, 7]) # adds the items one by one to the existing one\n",
    "print(l)\n",
    "\n",
    "l.index(2) # returns the position of the element in the list, throws error if not present\n",
    "\n",
    "l.insert(0,-1) # insert at index 0, the number -1\n",
    "print(l)\n",
    "\n",
    "print(l.pop()) # removes and returns the last element on the list\n",
    "l.remove([4,5]) # removes the first occurrence of the value passed\n",
    "print(l)\n",
    "\n",
    "l.reverse() # reverses the list in place, returns nothing\n",
    "print(l)\n",
    "\n",
    "l.sort() #sort the list in place, returns nothing\n",
    "print(l)"
   ]
  },
  {
   "cell_type": "code",
   "execution_count": null,
   "metadata": {},
   "outputs": [],
   "source": [
    "\n"
   ]
  }
 ],
 "metadata": {
  "kernelspec": {
   "display_name": "Python 3",
   "language": "python",
   "name": "python3"
  },
  "language_info": {
   "codemirror_mode": {
    "name": "ipython",
    "version": 3
   },
   "file_extension": ".py",
   "mimetype": "text/x-python",
   "name": "python",
   "nbconvert_exporter": "python",
   "pygments_lexer": "ipython3",
   "version": "3.7.4"
  }
 },
 "nbformat": 4,
 "nbformat_minor": 2
}
