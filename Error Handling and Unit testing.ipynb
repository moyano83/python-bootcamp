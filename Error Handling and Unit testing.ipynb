{
 "cells": [
  {
   "cell_type": "markdown",
   "metadata": {},
   "source": [
    "## Error Handling"
   ]
  },
  {
   "cell_type": "code",
   "execution_count": 6,
   "metadata": {},
   "outputs": [
    {
     "name": "stdout",
     "output_type": "stream",
     "text": [
      "Enter your number1\n"
     ]
    }
   ],
   "source": [
    "def add(n1,n2):\n",
    "    return n1+n2\n",
    "\n",
    "n2 = input(\"Enter your number\")\n",
    "#add(10, n2)  This call fails cause n2 is not a number"
   ]
  },
  {
   "cell_type": "code",
   "execution_count": 16,
   "metadata": {},
   "outputs": [
    {
     "name": "stdout",
     "output_type": "stream",
     "text": [
      "This block of code executes if there is no exception, sum is: 30\n",
      "This blocks executes no matter if an exception occurs\n",
      "Enter your number: 1\n",
      "Couldn't add 1\n",
      "This blocks executes no matter if an exception occurs\n"
     ]
    }
   ],
   "source": [
    "def addWithCatch(n1,n2):\n",
    "    suma = 0\n",
    "    try:\n",
    "        suma = n1+n2\n",
    "    except TypeError:\n",
    "        print(\"Couldn't add {}\".format(str(n2)))\n",
    "    except:\n",
    "        print(\"Couldn't perform operation, unsupported exception\")\n",
    "    else: \n",
    "        print(\"This block of code executes if there is no exception, sum is: {}\".format(str(suma)))\n",
    "    finally:\n",
    "        print(\"This blocks executes no matter if an exception occurs\")\n",
    "\n",
    "addWithCatch(10,20)\n",
    "addWithCatch(10, input(\"Enter your number: \"))"
   ]
  },
  {
   "cell_type": "markdown",
   "metadata": {},
   "source": [
    "## Unit testing with python"
   ]
  },
  {
   "cell_type": "code",
   "execution_count": 19,
   "metadata": {},
   "outputs": [],
   "source": [
    "def capitalizeText(text):\n",
    "    return text.capitalize()"
   ]
  },
  {
   "cell_type": "code",
   "execution_count": 22,
   "metadata": {},
   "outputs": [],
   "source": [
    "import unittest\n",
    "class TestCap(unittest.TestCase):\n",
    "    def test_capitalization(self):\n",
    "        input_text = 'test'\n",
    "        result = capitalizeText(input_text)\n",
    "        self.assertEquals(result, 'Test')\n",
    "    def capitalize_multiple_words(self):\n",
    "        input_text = 'this test'\n",
    "        result = capitalizeText(input_text)\n",
    "        self.assertEquals(result, 'This Test')\n",
    "        \n",
    "if __name__ = '__main__':\n",
    "    unittest.main()"
   ]
  },
  {
   "cell_type": "markdown",
   "metadata": {},
   "source": [
    "The above code can be run by placing it into a script and running the command `python thescript.py`"
   ]
  }
 ],
 "metadata": {
  "kernelspec": {
   "display_name": "Python 3",
   "language": "python",
   "name": "python3"
  },
  "language_info": {
   "codemirror_mode": {
    "name": "ipython",
    "version": 3
   },
   "file_extension": ".py",
   "mimetype": "text/x-python",
   "name": "python",
   "nbconvert_exporter": "python",
   "pygments_lexer": "ipython3",
   "version": "3.7.4"
  }
 },
 "nbformat": 4,
 "nbformat_minor": 2
}
