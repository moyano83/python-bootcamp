{
 "cells": [
  {
   "cell_type": "markdown",
   "metadata": {},
   "source": [
    "### Example of simple class definition, instantiation and use"
   ]
  },
  {
   "cell_type": "code",
   "execution_count": 27,
   "metadata": {},
   "outputs": [
    {
     "name": "stdout",
     "output_type": "stream",
     "text": [
      "Hello Tom, This is a universal salutation\n",
      "Hello Tim, This is a universal salutation\n"
     ]
    }
   ],
   "source": [
    "class HelloWorldClass():\n",
    "    \n",
    "    postfix = \"This is a universal salutation\"\n",
    "    '''\n",
    "        A Hello World class\n",
    "    '''\n",
    "    def __init__(self, name):\n",
    "        '''\n",
    "            Constructor\n",
    "        '''\n",
    "        self.name=name\n",
    "    def helloWorld(self):\n",
    "        '''\n",
    "            Hello World with name\n",
    "        '''\n",
    "        print(\"Hello {}, {}\".format(self.name, HelloWorldClass.postfix))\n",
    "    \n",
    "    def sayGoodBye(self):\n",
    "        print(\"Goodbye!!\")\n",
    "        \n",
    "# help(HelloWorldClass)\n",
    "HelloWorldClass(\"Tom\").helloWorld()\n",
    "HelloWorldClass(name = \"Tim\").helloWorld()"
   ]
  },
  {
   "cell_type": "markdown",
   "metadata": {},
   "source": [
    "### Inheritance, polymorphism"
   ]
  },
  {
   "cell_type": "code",
   "execution_count": null,
   "metadata": {},
   "outputs": [],
   "source": [
    "class HelloWorldExtended(HelloWorldClass):\n",
    "    \n",
    "    def __init__(self, name, otherName):\n",
    "        HelloWorldClass.__init__(self, name)\n",
    "        self.otherName = otherName\n",
    "    def helloWorld(self):\n",
    "        HelloWorldClass.helloWorld(self)\n",
    "        print(\"You too, {}\".format(self.otherName))\n",
    "hello2 = HelloWorldExtended(\"Tim\", \"Tom\")\n",
    "hello2.helloWorld()\n",
    "hello2.sayGoodBye()"
   ]
  },
  {
   "cell_type": "markdown",
   "metadata": {},
   "source": [
    "### Abstract classes"
   ]
  },
  {
   "cell_type": "code",
   "execution_count": 30,
   "metadata": {},
   "outputs": [],
   "source": [
    "class Animal():\n",
    "    def __init__(self, name):\n",
    "        self.name=name\n",
    "    def speak():\n",
    "        raise NotImplementedError(\"Method not implemented, this is an abstract class!!\")"
   ]
  },
  {
   "cell_type": "markdown",
   "metadata": {},
   "source": [
    "### Special Methods\n",
    "Allows for usage of the built in python function with your own Classes"
   ]
  },
  {
   "cell_type": "code",
   "execution_count": 35,
   "metadata": {},
   "outputs": [
    {
     "name": "stdout",
     "output_type": "stream",
     "text": [
      "Author:Jorge, title:Me, me, me, pages:125\n"
     ]
    }
   ],
   "source": [
    "class Book():\n",
    "    def __init__(self, author, title, pages):\n",
    "        self.author = author\n",
    "        self.title = title\n",
    "        self.pages = pages\n",
    "    \n",
    "    def __len__():\n",
    "        return pages\n",
    "    \n",
    "    def __str__(self): \n",
    "        return \"Author:{}, title:{}, pages:{}\".format(self.author, self.title, str(self.pages))\n",
    "    \n",
    "book = Book(\"Jorge\", \"Me, me, me\", 125)\n",
    "print(book)\n",
    "del book # Deletes the variable book from memory"
   ]
  },
  {
   "cell_type": "code",
   "execution_count": null,
   "metadata": {},
   "outputs": [],
   "source": []
  }
 ],
 "metadata": {
  "kernelspec": {
   "display_name": "Python 3",
   "language": "python",
   "name": "python3"
  },
  "language_info": {
   "codemirror_mode": {
    "name": "ipython",
    "version": 3
   },
   "file_extension": ".py",
   "mimetype": "text/x-python",
   "name": "python",
   "nbconvert_exporter": "python",
   "pygments_lexer": "ipython3",
   "version": "3.7.4"
  }
 },
 "nbformat": 4,
 "nbformat_minor": 2
}
