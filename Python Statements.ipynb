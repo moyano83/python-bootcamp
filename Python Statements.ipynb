{
 "cells": [
  {
   "cell_type": "markdown",
   "metadata": {},
   "source": [
    "# Logical operators"
   ]
  },
  {
   "cell_type": "code",
   "execution_count": 1,
   "metadata": {},
   "outputs": [
    {
     "data": {
      "text/plain": [
       "False"
      ]
     },
     "execution_count": 1,
     "metadata": {},
     "output_type": "execute_result"
    }
   ],
   "source": [
    "not 1==1"
   ]
  },
  {
   "cell_type": "code",
   "execution_count": 2,
   "metadata": {},
   "outputs": [],
   "source": [
    "result = 1 == 1 and 'b' == 'c'"
   ]
  },
  {
   "cell_type": "code",
   "execution_count": 3,
   "metadata": {},
   "outputs": [
    {
     "data": {
      "text/plain": [
       "False"
      ]
     },
     "execution_count": 3,
     "metadata": {},
     "output_type": "execute_result"
    }
   ],
   "source": [
    "1 < 2 > 3"
   ]
  },
  {
   "cell_type": "markdown",
   "metadata": {},
   "source": [
    "# Python Statements"
   ]
  },
  {
   "cell_type": "markdown",
   "metadata": {},
   "source": [
    "## If Statement"
   ]
  },
  {
   "cell_type": "code",
   "execution_count": 4,
   "metadata": {},
   "outputs": [
    {
     "name": "stdout",
     "output_type": "stream",
     "text": [
      "Is true\n"
     ]
    }
   ],
   "source": [
    "if 1 == 1:\n",
    "    print('Is true')\n",
    "elif 1!= 1:\n",
    "    print('Not true')\n",
    "else:\n",
    "    print('Whatever')"
   ]
  },
  {
   "cell_type": "code",
   "execution_count": 5,
   "metadata": {},
   "outputs": [
    {
     "name": "stdout",
     "output_type": "stream",
     "text": [
      "continue\n"
     ]
    }
   ],
   "source": [
    "if len('some_condition') >20:\n",
    "    print('Long String')\n",
    "print('continue')"
   ]
  },
  {
   "cell_type": "markdown",
   "metadata": {},
   "source": [
    "# For loops"
   ]
  },
  {
   "cell_type": "code",
   "execution_count": 6,
   "metadata": {},
   "outputs": [
    {
     "name": "stdout",
     "output_type": "stream",
     "text": [
      "1\n",
      "2\n",
      "3\n",
      "4\n",
      "------------------------\n",
      "Keys: a\n",
      "Keys: b\n",
      "Keys: c\n",
      "items: ('a', 1)\n",
      "items: ('b', 2)\n",
      "items: ('c', 3)\n",
      "items: a and 1\n",
      "items: b and 2\n",
      "items: c and 3\n",
      "values: 1\n",
      "values: 2\n",
      "values: 3\n",
      "------------------------\n",
      "Letter: H\n",
      "Letter: e\n",
      "Letter: l\n",
      "Letter: l\n",
      "Letter: o\n",
      "------------------------\n",
      "Not using the variable\n",
      "Not using the variable\n",
      "Not using the variable\n",
      "Not using the variable\n",
      "------------------------\n",
      "Pattern matching on tuples 1, 2\n",
      "Pattern matching on tuples a, b\n",
      "Pattern matching on tuples 3, 4\n"
     ]
    }
   ],
   "source": [
    "my_list=[1,2,3,4]\n",
    "for iterable in my_list:\n",
    "    print(iterable)\n",
    "print('------------------------')\n",
    "my_map={'a':1, 'b':2, 'c':3}\n",
    "for iterable in my_map:\n",
    "    print(f'Keys: {iterable}')\n",
    "for iterable in my_map.items():\n",
    "    print(f'items: {iterable}')\n",
    "for key,value in my_map.items():\n",
    "    print(f'items: {key} and {value}')\n",
    "for iterable in my_map.values():\n",
    "    print(f'values: {iterable}')\n",
    "print('------------------------')\n",
    "for letter in 'Hello':\n",
    "    print(f'Letter: {letter}')\n",
    "print('------------------------')\n",
    "for _ in 'test':\n",
    "    print('Not using the variable')\n",
    "print('------------------------')\n",
    "my_tuple_list=[(1,2), ('a','b'),(3,4)]\n",
    "for (a,b) in my_tuple_list: # parenthesis here are optional\n",
    "    print(f'Pattern matching on tuples {a}, {b}') # Called Tuple and packing"
   ]
  },
  {
   "cell_type": "markdown",
   "metadata": {},
   "source": [
    "# While loops"
   ]
  },
  {
   "cell_type": "code",
   "execution_count": 7,
   "metadata": {},
   "outputs": [
    {
     "name": "stdout",
     "output_type": "stream",
     "text": [
      "Inside loop\n"
     ]
    }
   ],
   "source": [
    "condition=True\n",
    "while condition:\n",
    "    print('Inside loop')\n",
    "    condition=False"
   ]
  },
  {
   "cell_type": "markdown",
   "metadata": {},
   "source": [
    "Important keywords in loops:\n",
    "\n",
    "    * Break: breaks out of the current closest enclosing loop\n",
    "    * continue: Goes to the top of the current closest enclosing loop\n",
    "    * pass: Does nothing"
   ]
  },
  {
   "cell_type": "code",
   "execution_count": 8,
   "metadata": {},
   "outputs": [],
   "source": [
    "for a in 'test':\n",
    "    pass # placeholder for a later implementation"
   ]
  },
  {
   "cell_type": "markdown",
   "metadata": {},
   "source": [
    "# Useful operators"
   ]
  },
  {
   "cell_type": "code",
   "execution_count": 9,
   "metadata": {},
   "outputs": [
    {
     "name": "stdout",
     "output_type": "stream",
     "text": [
      "0\n",
      "1\n",
      "2\n",
      "3\n",
      "4\n",
      "5\n",
      "6\n",
      "7\n",
      "8\n",
      "9\n"
     ]
    }
   ],
   "source": [
    "my_List=[1,2,3]\n",
    "\n",
    "for num in range(10):\n",
    "    print(num)\n",
    "    \n",
    "my_list2 = list(range(10))  #This is called generator"
   ]
  },
  {
   "cell_type": "code",
   "execution_count": 10,
   "metadata": {},
   "outputs": [
    {
     "name": "stdout",
     "output_type": "stream",
     "text": [
      "letter in w is 0\n",
      "letter in o is 1\n",
      "letter in r is 2\n",
      "letter in d is 3\n",
      "(0, 'O')\n",
      "(1, 't')\n",
      "(2, 'h')\n",
      "(3, 'e')\n",
      "(4, 'r')\n"
     ]
    }
   ],
   "source": [
    "index=0\n",
    "for letter in 'word':\n",
    "    print('letter in {} is {}'.format(letter, index))\n",
    "    index+=1\n",
    "    \n",
    "for letter in enumerate('Other'): #Argument to enumerate is any iterable object\n",
    "    print(letter)"
   ]
  },
  {
   "cell_type": "code",
   "execution_count": 11,
   "metadata": {},
   "outputs": [
    {
     "name": "stdout",
     "output_type": "stream",
     "text": [
      "(1, 'a', '*')\n",
      "(2, 'b', '.')\n"
     ]
    }
   ],
   "source": [
    "for item in zip(list([1,2,3]),list(['a','b','c']),list(['*','.'])):\n",
    "    print(item)"
   ]
  },
  {
   "cell_type": "code",
   "execution_count": 12,
   "metadata": {},
   "outputs": [
    {
     "data": {
      "text/plain": [
       "False"
      ]
     },
     "execution_count": 12,
     "metadata": {},
     "output_type": "execute_result"
    }
   ],
   "source": [
    "'x' in [1,2,3] # works in dictionaries to check for keys"
   ]
  },
  {
   "cell_type": "code",
   "execution_count": 13,
   "metadata": {},
   "outputs": [
    {
     "name": "stdout",
     "output_type": "stream",
     "text": [
      "1\n",
      "433\n"
     ]
    }
   ],
   "source": [
    "print(min(1,4,5))\n",
    "print(max(10,2,433))"
   ]
  },
  {
   "cell_type": "code",
   "execution_count": 14,
   "metadata": {},
   "outputs": [
    {
     "name": "stdout",
     "output_type": "stream",
     "text": [
      "[3, 4, 2, 1, 5, 6]\n"
     ]
    }
   ],
   "source": [
    "from random import shuffle\n",
    "ordered_list=[1,2,3,4,5,6]\n",
    "shuffle(ordered_list)\n",
    "print(ordered_list)"
   ]
  },
  {
   "cell_type": "code",
   "execution_count": 15,
   "metadata": {},
   "outputs": [
    {
     "data": {
      "text/plain": [
       "32"
      ]
     },
     "execution_count": 15,
     "metadata": {},
     "output_type": "execute_result"
    }
   ],
   "source": [
    "from random import randint\n",
    "randint(0,100) # Returns a number between 0 and 100"
   ]
  },
  {
   "cell_type": "code",
   "execution_count": 16,
   "metadata": {},
   "outputs": [
    {
     "name": "stdout",
     "output_type": "stream",
     "text": [
      "Enter a number here:20\n"
     ]
    }
   ],
   "source": [
    "user_number=input('Enter a number here:')"
   ]
  },
  {
   "cell_type": "code",
   "execution_count": 17,
   "metadata": {},
   "outputs": [
    {
     "name": "stdout",
     "output_type": "stream",
     "text": [
      "20\n"
     ]
    }
   ],
   "source": [
    "print(user_number)# The type of input is always string"
   ]
  },
  {
   "cell_type": "markdown",
   "metadata": {},
   "source": [
    "# List comprehensions"
   ]
  },
  {
   "cell_type": "code",
   "execution_count": 24,
   "metadata": {},
   "outputs": [],
   "source": [
    "myString='hello'\n",
    "mylist=[]"
   ]
  },
  {
   "cell_type": "code",
   "execution_count": 25,
   "metadata": {},
   "outputs": [
    {
     "name": "stdout",
     "output_type": "stream",
     "text": [
      "['h', 'e', 'l', 'l', 'o']\n",
      "['h', 'e', 'l', 'l', 'o']\n"
     ]
    }
   ],
   "source": [
    "for letter in myString:\n",
    "    mylist.append(letter)\n",
    "print(mylist)\n",
    "#The above can also be expressed as\n",
    "my_list_by_generator=[letter for letter in myString]\n",
    "print(my_list_by_generator)"
   ]
  },
  {
   "cell_type": "code",
   "execution_count": 28,
   "metadata": {},
   "outputs": [],
   "source": [
    "my_list_with_range=[x*2 for x in range(20)]"
   ]
  },
  {
   "cell_type": "code",
   "execution_count": 29,
   "metadata": {},
   "outputs": [
    {
     "name": "stdout",
     "output_type": "stream",
     "text": [
      "[0, 2, 4, 6, 8, 10, 12, 14, 16, 18, 20, 22, 24, 26, 28, 30, 32, 34, 36, 38]\n"
     ]
    }
   ],
   "source": [
    "print(my_list_with_range)"
   ]
  },
  {
   "cell_type": "code",
   "execution_count": 31,
   "metadata": {},
   "outputs": [
    {
     "name": "stdout",
     "output_type": "stream",
     "text": [
      "[1, 3, 5, 7, 9, 11]\n"
     ]
    }
   ],
   "source": [
    "# More complex expression can also be used\n",
    "print([x + 1 for x in range(0,11) if x%2 ==0])"
   ]
  },
  {
   "cell_type": "code",
   "execution_count": 35,
   "metadata": {},
   "outputs": [
    {
     "data": {
      "text/plain": [
       "[0, 'ODD', 2, 'ODD', 4, 'ODD', 6, 'ODD', 8, 'ODD', 10]"
      ]
     },
     "execution_count": 35,
     "metadata": {},
     "output_type": "execute_result"
    }
   ],
   "source": [
    "result=[x if x%2==0 else 'ODD' for x in range(0,11)]\n",
    "result"
   ]
  },
  {
   "cell_type": "code",
   "execution_count": 42,
   "metadata": {},
   "outputs": [
    {
     "data": {
      "text/plain": [
       "True"
      ]
     },
     "execution_count": 42,
     "metadata": {},
     "output_type": "execute_result"
    }
   ],
   "source": [
    "my_non_nested_list=[]\n",
    "for x in [2,3,4]:\n",
    "    for y in [5,6,7]:\n",
    "        my_non_nested_list.append(x*y)\n",
    "my_non_nested_list\n",
    "# Nested loop in for comprehension\n",
    "nested=[x * y for x in [2,3,4] for y in [5,6,7]]\n",
    "\n",
    "my_non_nested_list == nested"
   ]
  },
  {
   "cell_type": "code",
   "execution_count": null,
   "metadata": {},
   "outputs": [],
   "source": []
  }
 ],
 "metadata": {
  "kernelspec": {
   "display_name": "Python 3",
   "language": "python",
   "name": "python3"
  },
  "language_info": {
   "codemirror_mode": {
    "name": "ipython",
    "version": 3
   },
   "file_extension": ".py",
   "mimetype": "text/x-python",
   "name": "python",
   "nbconvert_exporter": "python",
   "pygments_lexer": "ipython3",
   "version": "3.7.4"
  }
 },
 "nbformat": 4,
 "nbformat_minor": 2
}
