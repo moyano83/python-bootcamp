{
 "cells": [
  {
   "cell_type": "code",
   "execution_count": 1,
   "metadata": {},
   "outputs": [],
   "source": [
    "from IPython.display import clear_output\n",
    "Square_Size=3\n",
    "Blank_symbol=\" \""
   ]
  },
  {
   "cell_type": "code",
   "execution_count": 2,
   "metadata": {},
   "outputs": [],
   "source": [
    "def initGame():\n",
    "    clear_output()\n",
    "    arr=[Blank_symbol for x in range(1,(Square_Size * Square_Size) + 1)]\n",
    "    return arr\n",
    "\n",
    "def printPlay(arr):\n",
    "    clear_output()\n",
    "    def getPosition(pointX,pointY):\n",
    "        newX= ((pointX -1) // (Square_Size + 1)) * Square_Size\n",
    "        newY=((pointY -1) // (Square_Size + 1) )\n",
    "        return int( newX + newY)\n",
    "    for x in range(0,12):\n",
    "        line=''\n",
    "        for y in range (0,11):\n",
    "            if x==Square_Size or x == Square_Size * 2 + 1:\n",
    "                line+='-'\n",
    "            elif y==Square_Size or y == Square_Size * 2 + 1:\n",
    "                line+='|'\n",
    "            elif y in [1,5,9] and x in [1,5,9]:\n",
    "                pos=getPosition(x,y)\n",
    "                if arr[pos] == Blank_symbol:\n",
    "                    line+=str(pos+1)\n",
    "                else:\n",
    "                    line+=arr[pos]\n",
    "            else:\n",
    "                line+=Blank_symbol\n",
    "        print(line)\n",
    "\n",
    "                \n",
    "def getAvailablePositions(arr):\n",
    "    available=[]\n",
    "    for pair in enumerate(arr):\n",
    "        if pair[1] == Blank_symbol:\n",
    "            available.append(str(pair[0] + 1))\n",
    "    return available"
   ]
  },
  {
   "cell_type": "code",
   "execution_count": 3,
   "metadata": {},
   "outputs": [],
   "source": [
    "def symbolSelection():\n",
    "    while True:\n",
    "        symbol1 = input('Please enter \"x\" or \"o\" to select the symbol for player 1: \\n')\n",
    "        if symbol1.lower() == 'x' or symbol1.lower() == 'o':\n",
    "            if symbol1 == 'x':\n",
    "                symbol2 = 'o'\n",
    "            else:\n",
    "                symbol2 = 'x'\n",
    "            break\n",
    "        else:\n",
    "            print('Wrong symbol selection')\n",
    "    return (symbol1, symbol2)"
   ]
  },
  {
   "cell_type": "code",
   "execution_count": 4,
   "metadata": {},
   "outputs": [],
   "source": [
    "def inputMove(player, arr, symbol):\n",
    "    availablePos = getAvailablePositions(arr)\n",
    "    while True:\n",
    "        x = input('{}, enter your move: '.format(player))\n",
    "        if x in availablePos:\n",
    "            arr[int(x) - 1] = symbol\n",
    "            break\n",
    "        else:\n",
    "            print('{} is not a valid move'.format(x))\n",
    "        "
   ]
  },
  {
   "cell_type": "code",
   "execution_count": 5,
   "metadata": {},
   "outputs": [],
   "source": [
    "def isGameNotFinish(symbolP1, symbolP2, inputs):\n",
    "    if Blank_symbol in inputs and findWinner(symbolP1, symbolP2, inputs) == Blank_symbol:\n",
    "        return True\n",
    "    else:\n",
    "        return False\n",
    "\n",
    "def findPlayerBySimbol(symbolP1, symbolP2, arr):\n",
    "    winnerSymbol = findWinner(symbolP1, symbolP2, arr)\n",
    "    if winnerSymbol == symbolP1:\n",
    "        return \"Player 1 won this game\"\n",
    "    elif winnerSymbol == symbolP2:\n",
    "        return \"Player 2 won this game\"\n",
    "    else:\n",
    "        return \"No player found for the symbol\"\n",
    "    \n",
    "def findWinner(symbolP1, symbolP2, res):\n",
    "    for x in range(0, Square_Size):\n",
    "        if res[x] == res[x + Square_Size] == res[x + 2*Square_Size] != Blank_symbol:\n",
    "            return res[x]\n",
    "    for y in range(0, Square_Size):\n",
    "        if res[y * Square_Size] == res[y * Square_Size + 1] == res[y * Square_Size + 2] != Blank_symbol:\n",
    "            return res[y]\n",
    "    if res[0] == res[1 * Square_Size + 1] == res[2 * Square_Size + 2] != Blank_symbol:\n",
    "        return res[0]\n",
    "    if res[Square_Size -1] == res[2*Square_Size - 2] == res[3*Square_Size - 3] != Blank_symbol:\n",
    "        return res[Square_Size - 1]\n",
    "    return Blank_symbol"
   ]
  },
  {
   "cell_type": "code",
   "execution_count": 6,
   "metadata": {},
   "outputs": [],
   "source": [
    "def game():\n",
    "    arr = initGame()\n",
    "    (symbol1, symbol2) = symbolSelection()\n",
    "    count=0\n",
    "    printPlay(arr)\n",
    "    while isGameNotFinish(symbol1, symbol2, arr):\n",
    "        if count % 2 == 0:\n",
    "            inputMove(\"Player 1\", arr, symbol1)\n",
    "        else:\n",
    "            inputMove(\"Player 2\", arr, symbol2)\n",
    "        count+=1\n",
    "        printPlay(arr)\n",
    "\n",
    "    print(findPlayerBySimbol(symbol1, symbol2, arr))\n",
    "    if input(\"Do you want to play another game? [Y/N]: \").lower() == 'y':\n",
    "        game()  "
   ]
  },
  {
   "cell_type": "code",
   "execution_count": null,
   "metadata": {},
   "outputs": [
    {
     "name": "stdout",
     "output_type": "stream",
     "text": [
      "   |   |   \n",
      " x | o | o \n",
      "   |   |   \n",
      "-----------\n",
      "   |   |   \n",
      " x | o | 6 \n",
      "   |   |   \n",
      "-----------\n",
      "   |   |   \n",
      " x | 8 | 9 \n",
      "   |   |   \n",
      "   |   |   \n",
      "Player 2 won this game\n"
     ]
    }
   ],
   "source": [
    "game()"
   ]
  },
  {
   "cell_type": "code",
   "execution_count": null,
   "metadata": {},
   "outputs": [],
   "source": []
  }
 ],
 "metadata": {
  "kernelspec": {
   "display_name": "Python 3",
   "language": "python",
   "name": "python3"
  },
  "language_info": {
   "codemirror_mode": {
    "name": "ipython",
    "version": 3
   },
   "file_extension": ".py",
   "mimetype": "text/x-python",
   "name": "python",
   "nbconvert_exporter": "python",
   "pygments_lexer": "ipython3",
   "version": "3.7.4"
  }
 },
 "nbformat": 4,
 "nbformat_minor": 2
}
